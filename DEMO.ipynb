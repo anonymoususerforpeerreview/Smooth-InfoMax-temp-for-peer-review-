{
 "cells": [
  {
   "cell_type": "markdown",
   "source": [
    "In this notebook, we let the reader listen to the sounds that the decoder has learned to generate from SIM's representations. We also interpolate between two representations (the user can also choose which two sounds to interpolate between). Finally, we let the reader listen to audio files that were obtained when only a small subset of the dimensions in the representation are beinig modifid. "
   ],
   "metadata": {
    "collapsed": false
   },
   "id": "19f51d9c9138f990"
  },
  {
   "cell_type": "code",
   "execution_count": 1,
   "id": "42abab15362fa84f",
   "metadata": {
    "collapsed": false,
    "scrolled": true,
    "ExecuteTime": {
     "end_time": "2024-03-22T15:31:57.095804Z",
     "start_time": "2024-03-22T15:31:43.703021Z"
    }
   },
   "outputs": [
    {
     "name": "stdout",
     "output_type": "stream",
     "text": [
      "Let's use 1 GPUs!\n",
      "Loading weights from  ./sim_logs//SIM=trueKLD=0.01\n",
      "DataParallel(\n",
      "  (module): FullModel(\n",
      "    (fullmodel): ModuleList(\n",
      "      (0): IndependentModule(\n",
      "        (encoder): CNNEncoder(\n",
      "          (encoder): Sequential(\n",
      "            (layer 0): Sequential(\n",
      "              (0): Conv1d(1, 512, kernel_size=(10,), stride=(5,), padding=(2,))\n",
      "              (1): ReLU()\n",
      "            )\n",
      "            (layer 1): Sequential(\n",
      "              (0): Conv1d(512, 512, kernel_size=(8,), stride=(4,), padding=(2,))\n",
      "              (1): ReLU()\n",
      "            )\n",
      "          )\n",
      "          (encoder_mu): Conv1d(512, 512, kernel_size=(1,), stride=(1,))\n",
      "          (encoder_var): Conv1d(512, 512, kernel_size=(1,), stride=(1,))\n",
      "        )\n",
      "        (loss): InfoNCE_Loss(\n",
      "          (predictor): Linear(in_features=512, out_features=6144, bias=False)\n",
      "          (loss): LogSoftmax(dim=1)\n",
      "        )\n",
      "      )\n",
      "      (1): IndependentModule(\n",
      "        (encoder): CNNEncoder(\n",
      "          (encoder): Sequential(\n",
      "            (layer 0): Sequential(\n",
      "              (0): Conv1d(512, 512, kernel_size=(4,), stride=(2,), padding=(2,))\n",
      "              (1): ReLU()\n",
      "            )\n",
      "            (layer 1): Sequential(\n",
      "              (0): Conv1d(512, 512, kernel_size=(4,), stride=(2,), padding=(2,))\n",
      "              (1): ReLU()\n",
      "            )\n",
      "          )\n",
      "          (encoder_mu): Conv1d(512, 512, kernel_size=(1,), stride=(1,))\n",
      "          (encoder_var): Conv1d(512, 512, kernel_size=(1,), stride=(1,))\n",
      "        )\n",
      "        (loss): InfoNCE_Loss(\n",
      "          (predictor): Linear(in_features=512, out_features=6144, bias=False)\n",
      "          (loss): LogSoftmax(dim=1)\n",
      "        )\n",
      "      )\n",
      "      (2): IndependentModule(\n",
      "        (encoder): CNNEncoder(\n",
      "          (encoder): Sequential(\n",
      "            (layer 0): Sequential(\n",
      "              (0): Conv1d(512, 512, kernel_size=(4,), stride=(2,), padding=(1,))\n",
      "              (1): ReLU()\n",
      "            )\n",
      "          )\n",
      "          (encoder_mu): Conv1d(512, 512, kernel_size=(1,), stride=(1,))\n",
      "          (encoder_var): Conv1d(512, 512, kernel_size=(1,), stride=(1,))\n",
      "        )\n",
      "        (loss): InfoNCE_Loss(\n",
      "          (predictor): Linear(in_features=512, out_features=6144, bias=False)\n",
      "          (loss): LogSoftmax(dim=1)\n",
      "        )\n",
      "      )\n",
      "      (3): AutoregressorIndependentModule(\n",
      "        (autoregressor): Autoregressor(\n",
      "          (gru): GRU(512, 256, batch_first=True)\n",
      "        )\n",
      "        (loss): InfoNCE_Loss(\n",
      "          (predictor): Linear(in_features=256, out_features=6144, bias=False)\n",
      "          (loss): LogSoftmax(dim=1)\n",
      "        )\n",
      "      )\n",
      "    )\n",
      "  )\n",
      ")\n",
      "Loading decoder trained w/ loss: DecoderLoss.MSE\n",
      "Loading data... SHUFFLE IS OFF!\n",
      "Loading De Boer Sounds dataset...\n",
      "using reshuffledv2 directory\n"
     ]
    }
   ],
   "source": [
    "from demo_setup import setup_demo, print_z_names, get_two_zs, interpolate, plot, decode_and_listen, _get_data, \\\n",
    "    interpolate_partial\n",
    "\n",
    "type = \"SIM\"  # SET VAL TO \"GIM\" OR \"SIM\" (my technique is SIM)\n",
    "decoder = \"MSE\"  # SET VAL TO \"MSE\" OR \"MSE+MEL\" (MEL IS MORE ACCURATE FOR LISTENING, BUT MSE IS BETTER FOR VISUALIZATION IN PLOTS)\n",
    "\n",
    "z_data, filenames, opt, context_model, decoder = setup_demo(type, decoder)"
   ]
  },
  {
   "cell_type": "code",
   "execution_count": 2,
   "id": "2ea195b8203552bc",
   "metadata": {
    "collapsed": false,
    "ExecuteTime": {
     "end_time": "2024-03-22T15:32:34.580511Z",
     "start_time": "2024-03-22T15:32:34.562322Z"
    }
   },
   "outputs": [
    {
     "name": "stdout",
     "output_type": "stream",
     "text": [
      "Please choose two sounds to interpolate between:\n",
      "Idx: 0: babadu_1\n",
      "Idx: 1: babagi_1\n",
      "Idx: 2: babibi_1\n",
      "Idx: 3: babibu_2\n",
      "Idx: 4: babidi_2\n",
      "Idx: 5: babiga_1\n",
      "Idx: 6: babiga_2\n",
      "Idx: 7: babugu_1\n",
      "Idx: 8: badadi_1\n",
      "Idx: 9: badidi_1\n",
      "Idx: 10: badidu_1\n",
      "Idx: 11: badiga_1\n",
      "Idx: 12: bagaba_1\n",
      "Idx: 13: bagabu_1\n",
      "Idx: 14: bagada_1\n",
      "Idx: 15: bagaga_1\n",
      "Idx: 16: bagibi_1\n",
      "Idx: 17: bagida_1\n",
      "Idx: 18: bagidi_2\n",
      "Idx: 19: bagubi_1\n",
      "Idx: 20: bagubi_2\n",
      "Idx: 21: baguda_1\n",
      "Idx: 22: bagugu_1\n",
      "Idx: 23: bibaba_1\n",
      "Idx: 24: bibabu_1\n",
      "Idx: 25: bibada_1\n",
      "Idx: 26: bibadi_1\n",
      "Idx: 27: bibibi_1\n",
      "Idx: 28: bibibu_1\n",
      "Idx: 29: bibida_1\n",
      "Idx: 30: bibigu_1\n",
      "Idx: 31: bibubi_2\n",
      "Idx: 32: bibuda_1\n",
      "Idx: 33: bibugu_1\n",
      "Idx: 34: bidabi_1\n",
      "Idx: 35: bidaga_1\n",
      "Idx: 36: bididu_1\n",
      "Idx: 37: bigabi_1\n",
      "Idx: 38: bigadi_1\n",
      "Idx: 39: bigaga_2\n",
      "Idx: 40: bigagi_2\n",
      "Idx: 41: bigidi_1\n",
      "Idx: 42: bigigu_1\n",
      "Idx: 43: bigubu_1\n",
      "Idx: 44: biguda_1\n",
      "Idx: 45: bubiba_1\n",
      "Idx: 46: bubida_1\n",
      "Idx: 47: bubidi_1\n",
      "Idx: 48: bububa_1\n",
      "Idx: 49: budabi_1\n",
      "Idx: 50: budabu_1\n",
      "Idx: 51: budada_1\n",
      "Idx: 52: budagi_1\n",
      "Idx: 53: budagu_1\n",
      "Idx: 54: budigu_1\n",
      "Idx: 55: budugi_1\n",
      "Idx: 56: bugaba_1\n",
      "Idx: 57: bugadi_1\n",
      "Idx: 58: bugibu_1\n",
      "Idx: 59: bugigi_1\n",
      "Idx: 60: buguba_1\n",
      "Idx: 61: bugugi_1\n",
      "Idx: 62: dababu_2\n",
      "Idx: 63: dabagi_1\n"
     ]
    }
   ],
   "source": [
    "print(\"Please choose two sounds to interpolate between:\")\n",
    "print_z_names(filenames)  # prints out the possible sounds to choose from"
   ]
  },
  {
   "cell_type": "code",
   "outputs": [],
   "source": [
    "sound_idx1 = 0  # babadu_1\n",
    "sound_idx2 = 19  # bagubi_1"
   ],
   "metadata": {
    "collapsed": false,
    "ExecuteTime": {
     "end_time": "2024-03-22T15:33:01.941267Z",
     "start_time": "2024-03-22T15:33:01.934349Z"
    }
   },
   "id": "bba080d307aa97b0",
   "execution_count": 3
  },
  {
   "cell_type": "code",
   "outputs": [
    {
     "name": "stdout",
     "output_type": "stream",
     "text": [
      "babadu_1 bagubi_1\n",
      "Interpolating between bagubi_1 and babadu_1 (Because of fixed length cropping, the final syllable might be cut off\n",
      "Interpolation 0\n"
     ]
    },
    {
     "data": {
      "text/plain": "<Figure size 400x200 with 1 Axes>",
      "image/png": "[encoded data removed]"
     },
     "metadata": {},
     "output_type": "display_data"
    },
    {
     "name": "stdout",
     "output_type": "stream",
     "text": [
      "Interpolation 1\n"
     ]
    }
   ],
   "source": [
    "z1, z2, z1_file, z2_file = get_two_zs(z_data, filenames, idx1=sound_idx1, idx2=sound_idx2)\n",
    "interpolations = interpolate(z1, z2, 10)\n",
    "print(\n",
    "    f\"Interpolating between {z2_file} and {z1_file} (Because of fixed length cropping, the final syllable might be cut off\")\n",
    "\n",
    "for i, z in enumerate(interpolations):\n",
    "    print(f\"Interpolation {i}\")\n",
    "    plot(z, opt, decoder)"
   ],
   "metadata": {
    "collapsed": false,
    "is_executing": true,
    "ExecuteTime": {
     "start_time": "2024-03-22T15:34:27.647281Z"
    }
   },
   "id": "f2ec139c502c3070",
   "execution_count": null
  },
  {
   "cell_type": "code",
   "outputs": [],
   "source": [
    "for i, z in enumerate(interpolations):\n",
    "    print(f\"Interpolation {i} [From {z2_file} to {z1_file}]\")\n",
    "    decode_and_listen(z, opt, decoder)"
   ],
   "metadata": {
    "collapsed": false,
    "is_executing": true
   },
   "id": "806555b115ea267c",
   "execution_count": null
  },
  {
   "cell_type": "code",
   "execution_count": null,
   "id": "696e063c13fc2b81",
   "metadata": {
    "collapsed": false,
    "is_executing": true
   },
   "outputs": [],
   "source": [
    "nb_most_important_dims_to_use = 64  # value between 1 and 512. 512 is the full latent space, and hence all information is used\n",
    "\n",
    "partial_interpolations = interpolate_partial(z1, z2, nb_most_important_dims_to_use, 10)\n",
    "print(\n",
    "    f\"Interpolating between {z2_file} and {z1_file} but only changing the {nb_most_important_dims_to_use} most important dimensions\")\n",
    "print(\n",
    "    f\"Notice how SIM can the correctly create the sound 'bagu' by only modifying 64 dimensions, while GIM needs at least half to sound different from the starting sound\")\n",
    "for i, z in enumerate(partial_interpolations):\n",
    "    print(f\"Interpolation {i} [From {z2_file} to {z1_file}]\")\n",
    "    decode_and_listen(z, opt, decoder)\n",
    "\n"
   ]
  }
 ],
 "metadata": {
  "kernelspec": {
   "display_name": "Python 3 (ipykernel)",
   "language": "python",
   "name": "python3"
  },
  "language_info": {
   "codemirror_mode": {
    "name": "ipython",
    "version": 3
   },
   "file_extension": ".py",
   "mimetype": "text/x-python",
   "name": "python",
   "nbconvert_exporter": "python",
   "pygments_lexer": "ipython3",
   "version": "3.9.13"
  }
 },
 "nbformat": 4,
 "nbformat_minor": 5
}
